{
  "nbformat": 4,
  "nbformat_minor": 0,
  "metadata": {
    "colab": {
      "name": "CS112-KhoaSo.ipynb",
      "provenance": []
    },
    "kernelspec": {
      "name": "python3",
      "display_name": "Python 3"
    },
    "language_info": {
      "name": "python"
    }
  },
  "cells": [
    {
      "cell_type": "markdown",
      "metadata": {
        "id": "l0lKIy7m9IF-"
      },
      "source": [
        "# Khoá số"
      ]
    },
    {
      "cell_type": "markdown",
      "metadata": {
        "id": "YxnAsfP6exZK"
      },
      "source": [
        "  + **Đề bài**: \n",
        "    + Để tăng độ an toàn chống hiện tượng cướp ngân hàng ngày càng phổ biến người ta dùng khóa số với mã mở khóa đơn giản nhưng rất hiệu quả. Trên cửa ra vào hiển thị một xâu khá dài các ký tự số. Các chữ số có thể di chuyển đổi chổ cho nhau hoặc bị xóa. Muốn mở khóa người ta phải di chuyển các chữ số và trong trường hợp cần thiết – xóa vài chữ số để nhận được xâu lớn nhất thỏa mãn điều kiện đã cài đặt. Điều kiện này được thay đổi thường xuyên. Hôm nay điều kiện đó là “Số nhận được phải chia hết cho 3”. Số nhận được có thể bắt đầu bằng các chữ số 0. Xâu “000” sẽ lớn hơn xâu “00”.\n",
        "\n",
        "    + Hãy xác định khóa mở cửa.\n",
        "\n",
        "  + **Dữ liệu**: Vào từ thiết bị nhập chuẩn gồm một xâu ký tự số có độ dài lớn hơn 2 và không vượt quá 105.\n",
        "\n",
        "  + **Kết quả**: Đưa ra thiết bị xuất chuẩn xâu khóa mở cửa.\n",
        "\n",
        "  + **Ví dụ**:\n",
        "    + input: 105\n",
        "    + output: 510"
      ]
    },
    {
      "cell_type": "markdown",
      "metadata": {
        "id": "JcNaa3AHeUlH"
      },
      "source": [
        "# Abstraction"
      ]
    },
    {
      "cell_type": "markdown",
      "metadata": {
        "id": "hJbTBolGeYRE"
      },
      "source": [
        "  + Cho một chuỗi số, tìm ra chuỗi con lớn nhất chia hết cho 3 "
      ]
    },
    {
      "cell_type": "markdown",
      "metadata": {
        "id": "Hu6uwn5VfmhA"
      },
      "source": [
        "# Decomposition"
      ]
    },
    {
      "cell_type": "markdown",
      "metadata": {
        "id": "n7WIlV1LfxTQ"
      },
      "source": [
        "  + Từ bài toán trên, ta có nhận xét:\n",
        "    + Nhận xét 1: vì output là một số chia hết cho 3, nên cần tìm ra chuỗi số có tổng chia hết cho 3.\n",
        "    + Nhận xét 2: để in ra output là một số lớn nhất, ta cần in ra chuỗi số có thứ tự giảm dần từ trái sang phải."
      ]
    },
    {
      "cell_type": "markdown",
      "metadata": {
        "id": "XRdf4rj6gPqc"
      },
      "source": [
        "# Pattern Recognition"
      ]
    },
    {
      "cell_type": "markdown",
      "metadata": {
        "id": "ydOq3u5cgcIs"
      },
      "source": [
        "  + Với trường hợp $sum \\equiv 0 \\pmod 3$, output chính là số được tạo bởi các chữ số ban đầu, theo thứ tự giảm dần từ trái sang phải Với trường hợp $sum \\equiv 1 \\pmod 3$, ta sẽ bỏ đi 1 số t nhỏ nhất nằm trong các số ban đầu thỏa $t \\equiv 0 \\pmod 3$. Nếu như trong dãy không có số t nào thỏa $t \\equiv 0 \\pmod 3$ thì ta sẽ bỏ đi 2 số u và v nhỏ nhất trong các số ban đầu thỏa $u \\equiv 2 \\pmod 3$ và $u \\equiv 2 \\pmod 3$. Khi đó, $sum_{new} \\equiv 0 \\pmod 3$"
      ]
    },
    {
      "cell_type": "markdown",
      "metadata": {
        "id": "UxF--5LujbEq"
      },
      "source": [
        "# 4. Algorithm Designed"
      ]
    },
    {
      "cell_type": "code",
      "metadata": {
        "colab": {
          "base_uri": "https://localhost:8080/"
        },
        "id": "WopkGZ2Nj1dt",
        "outputId": "0e0b5eb0-27b2-47c2-ec34-8088e6b61952"
      },
      "source": [
        "from sys import stdin, stdout\n",
        "from collections import Counter\n",
        "\n",
        "n = stdin.readline().strip()\n",
        "count = Counter(n)\n",
        "tong = sum(map(int, n)) % 3\n",
        "\n",
        "du = [[]] * 3\n",
        "du[1] = ['1', '4', '7']\n",
        "du[2] = ['2', '5', '8']\n",
        "du = [[x for x in d if x in count] for d in du]\n",
        "\n",
        "if tong:\n",
        "    d = sum(count[x] for x in du[tong])\n",
        "    c = 1\n",
        "    if not d:\n",
        "        c = 2\n",
        "        tong = 3 - tong\n",
        "    for x in du[tong]:\n",
        "        t = min(c, count[x])\n",
        "        c -= t\n",
        "        count[x] -= t\n",
        "\n",
        "for x in sorted(count.keys(), reverse=True):\n",
        "    stdout.write(x * count[x])\n",
        "print()"
      ],
      "execution_count": null,
      "outputs": [
        {
          "output_type": "stream",
          "text": [
            "\n"
          ],
          "name": "stdout"
        }
      ]
    }
  ]
}