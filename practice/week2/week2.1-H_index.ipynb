{
  "nbformat": 4,
  "nbformat_minor": 0,
  "metadata": {
    "colab": {
      "name": "CS112-H_index.ipynb",
      "provenance": [],
      "collapsed_sections": []
    },
    "kernelspec": {
      "name": "python3",
      "display_name": "Python 3"
    },
    "language_info": {
      "name": "python"
    }
  },
  "cells": [
    {
      "cell_type": "markdown",
      "metadata": {
        "id": "_1KGWfZR06Ul"
      },
      "source": [
        "# 1. H index"
      ]
    },
    {
      "cell_type": "markdown",
      "metadata": {
        "id": "otosjLJs0-Cx"
      },
      "source": [
        "  + Đề bài:\n",
        "    + Làm thế nào để đánh giá sự thành công của một nhà khoa học?  Dựa vào số bài báo được công bố hay dựa vào số lần một bài báo được trích dẫn tới ở công trình của những người khác? Cả hai tham số đó đều quan trọng.\n",
        "\n",
        "    + Một bài báo có điểm số trích dẫn là c nếu nó được trích dẫn tới c lần trong các công trình của những nhà khoa học khác. Một trong số các cách đánh giá sự thành công của một nhà khoa học là tính chỉ số ảnh hưởng H_Index dựa trên sự kết hợp giữa số lượng bài báo và chỉ số trích dẫn của các bài báo đó.\n",
        "\n",
        "    + Chỉ số H_Indexcủa một nhà khoa học bằng k lớn nhất nếu người đó có k bài báo, mỗi bài có điểm số trích dẫn không nhỏ hơn k. Ví dụ, một người có 10 bài báo, mỗi bài báo được trích dẫn không dưới 10 lần thì H_Index của người đó ít nhất là bằng 10.\n",
        "\n",
        "    + Một người có n bài báo, bài báo thứ i có điểm trích dẫn là ci, i = 1 ÷ n. Hãy xác định H_Index của người đó.\n",
        "\n",
        "  + Dữ liệu: Vào từ thiết bị nhập chuẩn:\n",
        "\n",
        "    + Dòng đầu tiên chứa một số nguyên n (1 ≤ n ≤ 5×105),\n",
        "    + Dòng thứ 2 chứa n số nguyên c1, c2, . . ., cn (0 ≤ ci ≤ 106, i = 1 ÷ n).\n",
        "  + Kết quả: Đưa ra thiết bị xuất chuẩn một số nguyên – H_Index tìm được.\n",
        "\n",
        "  + Ví dụ:\n",
        "\n",
        "    + input:  \n",
        "              5\n",
        "              8 5 3 4 10\n",
        "    + output:  \n",
        "              4"
      ]
    },
    {
      "cell_type": "markdown",
      "metadata": {
        "id": "0zLun42u2W59"
      },
      "source": [
        "# 2. Abstraction"
      ]
    },
    {
      "cell_type": "markdown",
      "metadata": {
        "id": "s1OuRcGq2r6g"
      },
      "source": [
        "  + Cho một dãy gồm n phần tử, tìm dãy con dài nhất có k phần tử sao cho với mỗi phần tử lớn hơn hoặc bằng số nguyên k (k <= n)"
      ]
    },
    {
      "cell_type": "markdown",
      "metadata": {
        "id": "DduJ7Yy24q0F"
      },
      "source": [
        "# 3. Pattern Recognition"
      ]
    },
    {
      "cell_type": "markdown",
      "metadata": {
        "id": "osf_3Rrq459m"
      },
      "source": [
        "1. Thuật toán 1 - Brute-Froce: O(2^n)\n",
        "  \n",
        "  +  Ý tưởng: \n",
        "    + vét qua mọi tập con của dãy đã cho. Với mỗi trường hợp xét xem mọi phần tử của dãy con có lớn hơn số lượng k phần tử của dãy hay không. Nếu thoả, lưu số k của dãy đó lại. Từ đó tìm ra số k lớn nhất, cũng chính là output của chương trình.\n",
        "\n",
        "2. Thuật toán 2: độ phức tạp của thuật toán là độ phức tạp của thuật toán sắp xếp\n",
        "  + Ý tưởng: \n",
        "    + Sử dụng thuật toán sắp xếp để sắp xếp các phần tử của dãy theo thứ tự giảm dần.\n",
        "    + Tại vị trí phần tử đầu tiên, nếu giá trị phần tử lớn hơn bằng n thì tăng biến đếm k lên 1. Ngược lại, giảm n đi 1. Lặp lại trong khi k <= n"
      ]
    },
    {
      "cell_type": "markdown",
      "metadata": {
        "id": "6_Lt-pmq3xq5"
      },
      "source": [
        "# 3. Algorithm Designed"
      ]
    },
    {
      "cell_type": "markdown",
      "metadata": {
        "id": "TbLE9A8p4e6y"
      },
      "source": [
        "  + Thuật toán 2\n",
        "    + Bước 1: sắp xếp mảng giảm dần (Quick sort, Heap Sort, ...)\n",
        "    + Bước 2: tại phần tử đầu tiên,\n",
        "      + nếu giá trị phần tử >= n thì tăng biến đếm k lên 1 và xét tiếp phần tử kế tiếp.\n",
        "      + ngược lại, giảm giá trị n xuống 1 và quay lại bước 2 trong khi k < n\n",
        "\n",
        "    ,với thuật toán trên, độ phức tạp của thuật toán chính là độ phức tạp thuật sắp xếp."
      ]
    },
    {
      "cell_type": "markdown",
      "metadata": {
        "id": "0KgkaKyV-NyY"
      },
      "source": [
        "# 4. Programing"
      ]
    },
    {
      "cell_type": "code",
      "metadata": {
        "colab": {
          "base_uri": "https://localhost:8080/"
        },
        "id": "EYR7zF9s-ZIT",
        "outputId": "e1643058-597d-42e2-efe8-8ecc899f6f92"
      },
      "source": [
        "n= int(input())\n",
        "c = list(map(int, input().split()))\n",
        "\n",
        "c.sort(reverse=True)\n",
        "i = 0\n",
        "while i < n:\n",
        "    if c[i] >= n:\n",
        "        i = i + 1\n",
        "    else:\n",
        "        n = n - 1\n",
        "\n",
        "print(i)"
      ],
      "execution_count": null,
      "outputs": [
        {
          "output_type": "stream",
          "text": [
            "5\n",
            "8 5 3 4 10\n",
            "4\n"
          ],
          "name": "stdout"
        }
      ]
    }
  ]
}