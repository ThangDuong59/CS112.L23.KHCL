{
  "nbformat": 4,
  "nbformat_minor": 0,
  "metadata": {
    "colab": {
      "name": "Copy of CS112: Trạm thu phí (BOT).ipynb",
      "provenance": [],
      "collapsed_sections": []
    },
    "kernelspec": {
      "name": "python3",
      "display_name": "Python 3"
    },
    "language_info": {
      "name": "python"
    }
  },
  "cells": [
    {
      "cell_type": "markdown",
      "metadata": {
        "id": "dskhq7OT9ojT"
      },
      "source": [
        "# __BOT__\n",
        "\n",
        "**BOT** (_Built-Operation-Transfer_, có nghĩa: Xây dựng-Vận hành-Chuyển giao) là hình thức Chính phủ kêu gọi các công ty bỏ vốn xây dựng trước (_Built_) thông qua đấu thầu, sau đó khai thác vận hành một thời gian (_Operation_) và sau cùng là chuyển giao (_Transfer_) lại cho nhà nước sở tại.\n",
        "\n",
        "Đường cao tốc xuyên quốc gia được xây dựng theo hình thức BOT. Công ty Đa quốc gia _Modern Highway_ trúng thầu, chia toàn bộ con đường thành ___n___ đoạn. Theo tính toán của Công ty sau khi chuyển giao con đường cho chính phủ sở tại quản lý thì lãi thu được ở đoạn đường thứ ___i___ là ___a<sub>i</sub>___, ___a<sub>i</sub>___ có thể dương, âm hoặc bằng 0, tức là với từng đoạn con có thể lãi, lỗ hoặc hòa vốn. Từng nhóm các đoạn đường liên tiếp nhau (gọi tắt là khoảng) được chia cho các công ty con thực hiện. Công ty con _ASEAM Highway_ hiện đang có trụ sở ở nước sở tại được quyền chọn trước khoảng tùy ý (có thể là cả con đường).\n",
        "\n",
        "Dĩ nhiên Ban Giám đốc _ASEAM Highway_ muốn chọn khoảng bắt đầu từ đoạn ___p___ đến hết đoạn ___q___ mang lại lợi nhuận cao nhất hoặc lỗ ít nhất nếu không có khoảng nào cho lãi.\n",
        "\n",
        "Hãy chỉ ra khoảng cần chọn và lãi thu được. Nếu có nhiều cách chọn thì chỉ ra cách chọn có ___p___ nhỏ nhất.\n",
        "\n",
        "**Dữ liệu**: Vào từ thiết bị nhập chuẩn:\n",
        "\n",
        "* Dòng đầu tiên chứa số nguyên ___n___ (1 ≤ ___n___ ≤ 106),\n",
        "* Dòng thứ 2 chứa ___n___ số nguyên ___a<sub>1</sub>___, ___a<sub>2</sub>___, . . ., ___a<sub>n</sub>___ (0 ≤ |___a<sub>i</sub>___| ≤ 109, ___i___ = 1 ÷ ___n___).\n",
        "\n",
        "**Kết quả**: Đưa ra thiết bị xuất chuẩn trên một dòng 2 số nguyên ___p___, ___q___ và lãi thu được.\n",
        "\n",
        "**Ví dụ**:\n",
        "\n",
        "INPUT: \n",
        "\n",
        "16\n",
        "\n",
        "2 -4 5 -8 4 -1 -1 1 1 1 -2 2 4 -6 9 -4\n",
        "\n",
        "OUTPUT:\n",
        "\n",
        "5 15 12"
      ]
    },
    {
      "cell_type": "markdown",
      "metadata": {
        "id": "G_Qll5cV_Plp"
      },
      "source": [
        "# __Abstraction__"
      ]
    },
    {
      "cell_type": "markdown",
      "metadata": {
        "id": "wNpwHlRwFbqn"
      },
      "source": [
        "Cho một dãy số $a$ gồm $n$ phần tử, tìm cặp số $(i, j)$ sao cho biểu thức sau đạt giá trị lớn nhất.\n",
        "\n",
        "$S_{i,j}$ = $a_{i}$ + $a_{i+1}$ + ... + $a_{j-1}$ + $a_{j}$"
      ]
    },
    {
      "cell_type": "markdown",
      "metadata": {
        "id": "0IlEImxI_Rjx"
      },
      "source": [
        "# __Pattern Recognition__"
      ]
    },
    {
      "cell_type": "markdown",
      "metadata": {
        "id": "6s3r4zLDvR8E"
      },
      "source": [
        "1. Thuật toán 1 (Brute-Force) : O(n^3)\n",
        "  + Dùng chiến lược Brute-Force để sinh ra mọi dãy con liên tục từ dãy đã cho. Với mỗi dãy con, ta sử dụng một hàm gọi là S(i, j) để tìm được giá trị tổng các phần tử từ vị trí thứ i đến vị trí thứ j. \n",
        "  + Theo quy tắc nhân thì độ phức tạp của bài toán là O(n^3)\n",
        "2. Thuật toán 2 (Brute-Force + PrefixSum): O(n^2)\n",
        "  + Thay vì sử dụng hàm gọi là S(x, y) để tìm giá trị tổng các phần tử từ vị trí i đến vị trí j, thì ta sử dụng một hàm gọi là PrefixSum để tính tổng. Đối với kỹ thuật này, ta sẽ dùng một mảng để lưu trữ tổng tích luỹ. Như vậy đi khi tính S(i, j) sẽ không cần tính toán lại. S(i, j) = Prefix(j) - Prefix(i - 1).\n",
        "  + Theo quy tắc cộng thì thuật toán này có độ phức tạp là O(n^2)\n",
        "\n",
        "3. Thuật toán 3 (Dynamic Programing): O(n)\n",
        "  + Sử dụng thuật toán kadane để tìm dãy con lớn nhất. Ý tưởng cơ bản của thuật là tìm cụm số nguyên dương tổng lớn nhất (có thể có một vài số âm nhưng nhỏ không ảnh hưởng)\n",
        "Mỗi khi đi qua một phần tử, sẽ luôn cập nhật 2 giá trị cơ bản là:\n",
        "\n",
        "    + max_sum_present: Dùng để thể hiện tổng mảng con lớn nhất tại thời điểm hiện tại (bao gồm chính nó)\n",
        "    + max_sum_ending_at: Dùng để thể hiện tổng mảng con kết thúc tại vị trí phần tử đó (bao gồm chính nó)\n",
        "    + Đồng thời so sánh xem: max_sum_ending_at > max_sum_present\n",
        "Nếu có thì cập lại 2 giá trị p,q, sau đó tiếp tục tăng giá trị max_sum_ending_at bằng đúng phần tử tại vị trí đó Nếu không thì tiếp tục\n"
      ]
    },
    {
      "cell_type": "markdown",
      "metadata": {
        "id": "9WBizkyI_Urh"
      },
      "source": [
        "# __Algorithm Designed + Programing__"
      ]
    },
    {
      "cell_type": "markdown",
      "metadata": {
        "id": "gRhJZ3FD3Yt3"
      },
      "source": [
        "**1. Thuật toán 1 (Brute-Force)**"
      ]
    },
    {
      "cell_type": "markdown",
      "metadata": {
        "id": "SLz95b5Xzfj-"
      },
      "source": [
        "  + Bước 1: sinh ra một dãy con liên tục, gọi là b\n",
        "  + Bước 2: tính tổng các phần tử của b\n",
        "  + Bước 3: so sánh tổng b với tổng dãy con lớn nhất trước đó gọi là max\n",
        "    + nếu b > max thì cập nhật vị trí, max\n",
        "  + Bước 4: quay lại bước 1 cho đến khi sinh ra hết mọi tổ hợp\n"
      ]
    },
    {
      "cell_type": "code",
      "metadata": {
        "id": "jGcWi6561nWM"
      },
      "source": [
        "n = int(input())\n",
        "arr = input().split()\n",
        "arr = [int(i) for i in arr]\n",
        "\n",
        "def sum(arr):\n",
        "    tmp = 0\n",
        "    for i in arr:\n",
        "        tmp = tmp + i\n",
        "    return tmp\n",
        "\n",
        "a, b, tmp = 0, 0, arr[0]\n",
        "for i in range(n):\n",
        "    for j in range(i, n):\n",
        "        s = sum(arr[i:j+1])\n",
        "        if tmp < s:\n",
        "            a, b, tmp = i, j, s\n",
        "\n",
        "print(a + 1, b + 1, tmp)"
      ],
      "execution_count": null,
      "outputs": []
    },
    {
      "cell_type": "markdown",
      "metadata": {
        "id": "EvSXZDBe3mKd"
      },
      "source": [
        "**Thuật toán 2 (Brute-Force + Prefix Sum)**"
      ]
    },
    {
      "cell_type": "markdown",
      "metadata": {
        "id": "qcdHqZkX3sY3"
      },
      "source": [
        "  + Bước 1: tính tổng tích luỹ\n",
        "  + Bước 2: sinh ra một dãy con liên tục, gọi là b\n",
        "  + Bước 3: tính tổng các phần tử của b\n",
        "  + Bước 4: so sánh tổng b với tổng dãy con lớn nhất trước đó gọi là max\n",
        "    + nếu b > max thì cập nhật vị trí, max\n",
        "  + Bước 5: quay lại bước 2 cho đến khi sinh ra hết mọi tổ hợp\n"
      ]
    },
    {
      "cell_type": "code",
      "metadata": {
        "id": "BA73BwGE3cz6"
      },
      "source": [
        "n = int(input())\n",
        "arr = input().split()\n",
        "arr = [int(i) for i in arr]\n",
        "\n",
        "sum = [0]\n",
        "for i in range(1, n + 1):\n",
        "    sum.append(sum[i-1] + arr[i-1])\n",
        "\n",
        "a, b, tmp = 0, 0, arr[0]\n",
        "for i in range(n):\n",
        "    for j in range(i, n):\n",
        "        s = sum[j+1] - sum[i]\n",
        "        if tmp < s:\n",
        "            a, b, tmp = i, j, s\n",
        "\n",
        "print(a + 1, b + 1, tmp)"
      ],
      "execution_count": null,
      "outputs": []
    },
    {
      "cell_type": "markdown",
      "metadata": {
        "id": "R26qZPh36dLD"
      },
      "source": [
        "**Thuật toán 3 (Dynamic Programing)**"
      ]
    },
    {
      "cell_type": "markdown",
      "metadata": {
        "id": "3mkYXoBR6dAI"
      },
      "source": [
        "  + max_sum_present = 0 (dùng để lưu trữ tổng của dãy con lớn nhất cho đến hiện tại (lớn nhất cần tìm))\n",
        "\n",
        "  + max_sum_ending_at = 0 (dùng để gán giá trị kết thúc của mảng con cần tìm)\n",
        "\n",
        "  + start_index = 0 (dùng để gán giá trị bắt đầu của mảng con cần tìm)\n",
        "\n",
        "  + start_temp = -1 (biến này có 2 mục đích dùng. Mục đích thứ nhất, là dùng để kiểm tra tổng dãy con kết thúc tại vị trí i-1 có âm hay không. Vì nếu tổng dãy con con kết thúc tại i-1 âm thì tổng dãy con kết lớn nhất kết thúc tại vị trí i sẽ là chính phần tử tại i. Mục đích thứ 2 là lưu tạm thời vị trí bắt đầu của mảng con cần tìm)\n",
        "\n",
        "  + ending_index = 0 (dùng để gán giá tị kết thúc của mảng con cần tìm))\n",
        "\n",
        "  + Loop for each index i of the array:\n",
        "\n",
        "    + max_sum_ending_at <- max_sum_ending_at + a[i]  (tính mảng con lớn nhất kết thúc tại vị trí đang xét)\n",
        "if (max_sum_ending_at<0): (kiểm tra tổng mảng con kết thúc tại i này có âm hay không)\n",
        "    + max_sum_ending_at <- 0 (nếu là âm thì max_sum_ending_at trở về 0)\n",
        "    + start_temp <- -1 (đồng thời start_temp trở về -1)\n",
        "else:\n",
        "    + if start_temp==-1: (tức là nếu tổng dãy con lớn nhất tại i-1 nhỏ hơn 0)\n",
        "        start_temp <- i (thì mảng con lớn nhất kết thúc tại i sẽ là a[i])\n",
        "    + if max_sum_present < max_sum_ending_at: (kiếm tra tổng mảng con lớn nhất đang xét có lớn hơn giá trị cũ hay không)\n",
        "        + max_sum_present <- max_sum_ending_at (nếu lớn hơn thì update giá trị mảng con lớn nhất)\n",
        "        + start_index <- start_temp (GÁN giá trị bắt đầu)\n",
        "        + ending_index <- i (UPDATE giá trị kết thúc))\n",
        "return start_index, ending_index, max_sum_present (trả về kết quả)"
      ]
    },
    {
      "cell_type": "code",
      "metadata": {
        "colab": {
          "base_uri": "https://localhost:8080/"
        },
        "id": "o7YbH6627BvS",
        "outputId": "9ae41da2-31f5-4c0b-e90b-b61833231f3a"
      },
      "source": [
        "n = int(input())\n",
        "arr = input().split()\n",
        "arr = [int(i) for i in arr]\n",
        "\n",
        "def kadane(seqs):\n",
        "  max_sum_present = 0\n",
        "  max_sum_ending_at = 0\n",
        "  start_index = 0\n",
        "  start_temp = -1\n",
        "  ending_index = 0\n",
        "\n",
        "  for i in range(len(seqs)):\n",
        "    max_sum_ending_at += seqs[i]\n",
        "    if (max_sum_ending_at < 0):\n",
        "      max_sum_ending_at = 0\n",
        "      start_temp = -1\n",
        "    else:\n",
        "      if start_temp == -1:\n",
        "        start_temp = i\n",
        "      if max_sum_present < max_sum_ending_at:\n",
        "        max_sum_present = max_sum_ending_at\n",
        "        start_index = start_temp\n",
        "        ending_index = i\n",
        "  return start_index+1, ending_index+1, max_sum_present \n",
        "\n",
        "start,stop,profit = kadane(arr)\n",
        "print(start,stop,profit)"
      ],
      "execution_count": null,
      "outputs": [
        {
          "output_type": "stream",
          "text": [
            "16\n",
            "2 -4 5 -8 4 -1 -1 1 1 1 -2 2 4 -6 9 -4\n",
            "5 15 12\n"
          ],
          "name": "stdout"
        }
      ]
    }
  ]
}