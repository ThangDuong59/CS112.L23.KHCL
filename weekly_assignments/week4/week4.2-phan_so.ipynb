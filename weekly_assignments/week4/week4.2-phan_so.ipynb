{
  "nbformat": 4,
  "nbformat_minor": 0,
  "metadata": {
    "colab": {
      "name": "Fraction.ipynb",
      "provenance": [],
      "collapsed_sections": []
    },
    "kernelspec": {
      "name": "python3",
      "display_name": "Python 3"
    },
    "language_info": {
      "name": "python"
    }
  },
  "cells": [
    {
      "cell_type": "markdown",
      "metadata": {
        "id": "8RtAIlPYFheV"
      },
      "source": [
        "# __Phân số__\n",
        "\n",
        "Cho 2 phân số đúng và tối giản $\\frac{a}{b}$, $\\frac{c}{d}$ . Mỗi phép biến đổi là tăng __a__ và __b__ lên 1, sau đó giản ước phân số nhận được.\n",
        "\n",
        "Hãy xác định sau bao nhiêu bước biến đổi từ phân số thứ nhất ban đầu nhận được phân số thứ 2 đã cho.\n",
        "\n",
        "___Dữ liệu:___ Vào từ thiết bị nhập chuẩn gồm 4 dòng, mỗi dòng chứa 1 số nguyên ___a, b, c, d___, 0 < ___a___ < ___b___ ≤ $10^5$, 0 < ___c___ < ___d___ ≤ $10^5$, ___a___ và ___b___ nguyên tố cùng nhau, ___c___ và ___d___ nguyên tố cùng nhau $\\frac{a}{b}$ ≠ $\\frac{c}{d}$ .\n",
        "\n",
        "___Kết quả:___ Đưa ra thiết bị xuất chuẩn số 0 nếu không có cách biến đổi hoặc một số nguyên – số lượng phép biến đổi.\n",
        "\n",
        "___Ví dụ:___\n",
        "\n",
        "INPUT: 1 6 2 3\n",
        "\n",
        "OUTPUT: 5"
      ]
    },
    {
      "cell_type": "markdown",
      "metadata": {
        "id": "5vWUgixFGkSS"
      },
      "source": [
        "## __Abstraction__"
      ]
    },
    {
      "cell_type": "markdown",
      "metadata": {
        "id": "41YCfGMdjNRD"
      },
      "source": [
        "Cho bốn số __a, b, c, d__ với ___a, b, c, d___, 0 < ___a___ < ___b___ ≤ $10^5$, 0 < ___c___ < ___d___ ≤ $10^5$, ___a___ và ___b___ nguyên tố cùng nhau, ___c___ và ___d___ nguyên tố cùng nhau. Tìm số lần tăng __a__ và __b__ lên 1 sao cho $\\frac{a}{b} = \\frac{c}{d}$"
      ]
    },
    {
      "cell_type": "markdown",
      "metadata": {
        "id": "BtEZytE_Gnoy"
      },
      "source": [
        "## __Pattern Recognition__"
      ]
    },
    {
      "cell_type": "markdown",
      "metadata": {
        "id": "z4UGEr5Dj8sI"
      },
      "source": [
        "Đây là dạng bài toán tìm một phương án từ một tập các kết quả có thể biết trước được: Với mỗi lần tăng a và b lên 1, so sánh a c và b d nếu cả hai phương trình bằng nhau thì trả về kết quả chính bằng số lần lặp của việc tăng a và b lên 1."
      ]
    },
    {
      "cell_type": "markdown",
      "metadata": {
        "id": "JrbXJzMUGqwS"
      },
      "source": [
        "## __Algorithm Designed__"
      ]
    },
    {
      "cell_type": "markdown",
      "metadata": {
        "id": "lvtfwXPDkqmh"
      },
      "source": [
        "count = 0\n",
        "\n",
        "while $ad \\neq  bc$ and $ad - bc < 0$ do:\n",
        "\n",
        "&nbsp;&nbsp;&nbsp;&nbsp;&nbsp;&nbsp;a = a + 1\n",
        "\n",
        "&nbsp;&nbsp;&nbsp;&nbsp;&nbsp;&nbsp;b = b + 1\n",
        "\n",
        "&nbsp;&nbsp;&nbsp;&nbsp;&nbsp;&nbsp;count = count + 1\n",
        "\n",
        "&nbsp;&nbsp;&nbsp;&nbsp;&nbsp;&nbsp;ucln = UCLN(a,b)\n",
        "\n",
        "&nbsp;&nbsp;&nbsp;&nbsp;&nbsp;&nbsp;a = a div ucln\n",
        "\n",
        "&nbsp;&nbsp;&nbsp;&nbsp;&nbsp;&nbsp;b = b div ucln\n",
        "\n",
        "&nbsp;&nbsp;&nbsp;&nbsp;&nbsp;&nbsp;if $ad - bc > 0$ do\n",
        "\n",
        "&nbsp;&nbsp;&nbsp;&nbsp;&nbsp;&nbsp;&nbsp;&nbsp;&nbsp;print(0)\n",
        "\n",
        "&nbsp;&nbsp;&nbsp;&nbsp;&nbsp;&nbsp;if $a == c$ and $b == d$ do\n",
        "\n",
        "&nbsp;&nbsp;&nbsp;&nbsp;&nbsp;&nbsp;&nbsp;&nbsp;&nbsp;print(count)"
      ]
    },
    {
      "cell_type": "markdown",
      "metadata": {
        "id": "1rDJmwcKGufM"
      },
      "source": [
        "## __Algorithm Complexity__"
      ]
    },
    {
      "cell_type": "markdown",
      "metadata": {
        "id": "9PIrIK2-m8hU"
      },
      "source": [
        "O(__$10^5$__)"
      ]
    },
    {
      "cell_type": "markdown",
      "metadata": {
        "id": "Sg9zOBEuGzZz"
      },
      "source": [
        "## __Programming__"
      ]
    },
    {
      "cell_type": "code",
      "metadata": {
        "colab": {
          "base_uri": "https://localhost:8080/"
        },
        "id": "3v-W7XpBLmjH",
        "outputId": "5eda1bf0-5c91-43c3-8bc5-a96026677b7a"
      },
      "source": [
        "import math\n",
        "\n",
        "a = int(input())\n",
        "b = int(input())\n",
        "c = int(input())\n",
        "d = int(input())\n",
        "\n",
        "count = 0\n",
        "flag = 0\n",
        "if (a == c and b == d) or ((a * d - b * c) * (c-d) < 0) or ((a * d - b * c) % (c - d)) != 0:\n",
        "    flag = 1  \n",
        "\n",
        "while flag != 1:\n",
        "  a += 1\n",
        "  b += 1\n",
        "  count += 1\n",
        "  gcd = math.gcd(a, b)\n",
        "  a = a // gcd\n",
        "  b = b // gcd\n",
        "  if (a * d - b * c) > 0:\n",
        "    count = 0\n",
        "    flag = 1\n",
        "  if a == c and b == d:\n",
        "    flag = 1\n",
        "\n",
        "print(count)"
      ],
      "execution_count": null,
      "outputs": [
        {
          "output_type": "stream",
          "text": [
            "1\n",
            "6\n",
            "2\n",
            "3\n",
            "5\n"
          ],
          "name": "stdout"
        }
      ]
    }
  ]
}