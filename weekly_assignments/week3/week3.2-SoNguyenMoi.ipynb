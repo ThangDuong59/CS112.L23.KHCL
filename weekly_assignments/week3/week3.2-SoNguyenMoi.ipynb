{
  "nbformat": 4,
  "nbformat_minor": 0,
  "metadata": {
    "colab": {
      "name": "SoNguyenMoi.ipynb",
      "provenance": [],
      "collapsed_sections": []
    },
    "kernelspec": {
      "name": "python3",
      "display_name": "Python 3"
    },
    "language_info": {
      "name": "python"
    }
  },
  "cells": [
    {
      "cell_type": "markdown",
      "metadata": {
        "id": "-J-ipWl_UbZ6"
      },
      "source": [
        "# **Số nguyên mới**"
      ]
    },
    {
      "cell_type": "markdown",
      "metadata": {
        "id": "N0cC97bXUmqp"
      },
      "source": [
        "**Đề bài**"
      ]
    },
    {
      "cell_type": "markdown",
      "metadata": {
        "id": "mWMlgsTqVZgd"
      },
      "source": [
        "  + Cho số nguyên dương n có không quá 100 chữ số. Hãy xác định số nguyên lớn nhất m chia hết cho 3 và khác n ở đúng một chữ số.\n",
        "  + Ví dụ: n = 123 thì m sẽ là 723."
      ]
    },
    {
      "cell_type": "markdown",
      "metadata": {
        "id": "JPdVOE90U4xr"
      },
      "source": [
        "**Dữ liệu**"
      ]
    },
    {
      "cell_type": "markdown",
      "metadata": {
        "id": "dJbgzWhFVtVg"
      },
      "source": [
        "  + Vào từ thiết bị nhập chuẩn gồm một dòng chứa số nguyên n có không quá 100 chữ số và không chứa các số 0 không có nghĩa."
      ]
    },
    {
      "cell_type": "markdown",
      "metadata": {
        "id": "kai5F-vAU8KR"
      },
      "source": [
        "**Kết quả**"
      ]
    },
    {
      "cell_type": "markdown",
      "metadata": {
        "id": "Nz2BmrJuVy0c"
      },
      "source": [
        "  + Đưa ra thiết bị xuất chuẩn số nguyên m tìm được."
      ]
    },
    {
      "cell_type": "markdown",
      "metadata": {
        "id": "1TpLQA8lU_8r"
      },
      "source": [
        "**Ví dụ**"
      ]
    },
    {
      "cell_type": "markdown",
      "metadata": {
        "id": "kix_-Vj8V5ql"
      },
      "source": [
        "  + Input: 123\n",
        "  + Ouput: 723"
      ]
    },
    {
      "cell_type": "markdown",
      "metadata": {
        "id": "_pUAbUTFUsaE"
      },
      "source": [
        "# **Computational Thinking**"
      ]
    },
    {
      "cell_type": "markdown",
      "metadata": {
        "id": "EarzZJqjVEA0"
      },
      "source": [
        "**Abtraction**"
      ]
    },
    {
      "cell_type": "markdown",
      "metadata": {
        "id": "p9MM5uIkWCvk"
      },
      "source": [
        "- Cho số nguyên dương n không quá 100 chữ số\n",
        "- Tìm một số nguyên sao cho:\n",
        "    + chia hết cho 3\n",
        "    + chỉ khác n ở đúng một chữ số\n",
        "    + là số nguyên lớn nhất\n"
      ]
    },
    {
      "cell_type": "markdown",
      "metadata": {
        "id": "LO7_wsJIVJkc"
      },
      "source": [
        "**Pattern Regconition**"
      ]
    },
    {
      "cell_type": "markdown",
      "metadata": {
        "id": "1VzmHMn_Wv9b"
      },
      "source": [
        "- Ta thực hiện vòng lặp duyệt các chữ số của n từ chữ số đầu tới khi có 1 chữ số được thay đổi. Và chữ số thay đổi phải thỏa số nguyên m chia hết cho 3.\n",
        "- Nếu có thay đổi, ta dừng vòng lặp và in ra số m.\n",
        "- Nếu khi vòng lặp kết thúc, mà vẫn không có chữ số nào thay đổi, ta lấy số nguyên n trừ phần dư (n = n - n % 3)"
      ]
    },
    {
      "cell_type": "markdown",
      "metadata": {
        "id": "JlCfrKbTVU_q"
      },
      "source": [
        "**Algorithmic Thinking**"
      ]
    },
    {
      "cell_type": "markdown",
      "metadata": {
        "id": "mlc3NKClZAQP"
      },
      "source": [
        "- nhập n\n",
        "- Xét từ vị trí đầu tiên tới vị trí cuối cùng các chữ số  của số nguyên n:\n",
        "    + nếu chữ số đang xét cộng với phần dư nhỏ hơn 10 thì,\n",
        "        + cộng chữ số đang xét với phần dư\n",
        "        + kế tiếp, cộng dồn liên tục cho 3 trong khi tổng dồn nhỏ hơn 10\n",
        "        + thoát và in số nguyên n\n",
        "    + ngược lại, xét chữ số kế tiếp\n",
        "- Nếu sau khi kết thúc vòng lặp, nhưng vẫn chưa có sự thay đổi chữ số nào thì ta lấy số nguyên n trừ cho phần dư và in số nguyên n."
      ]
    },
    {
      "cell_type": "markdown",
      "metadata": {
        "id": "itH0JLdXZAbK"
      },
      "source": [
        "**Code**"
      ]
    },
    {
      "cell_type": "code",
      "metadata": {
        "id": "WAzv3jlgZGeb"
      },
      "source": [
        "n = input()\n",
        "m = int(n)\n",
        "r = 3 - int(n) + int(n)//3*3\n",
        "l = len(n)\n",
        "flag = False\n",
        "\n",
        "for i in range(l):\n",
        "    if m//10 ** (l-i-1) % 10 + r < 10:\n",
        "        m = m + r*10**(l-i-1)\n",
        "        flag = True\n",
        "\n",
        "    while(flag == True and m//10 ** (l-i-1) % 10 + 3 < 10):\n",
        "        m = m + 3 * 10**(l-i-1)\n",
        "        \n",
        "    if flag ==1:\n",
        "        break\n",
        "\n",
        "    if m % 3 != 0 and i == l-1:\n",
        "        x = m % 3\n",
        "        m = m - x\n",
        "        break\n",
        "\n",
        "    if m % 3 == 0 and i == l-1:\n",
        "        m = m-3\n",
        "    \n",
        "print(m)"
      ],
      "execution_count": null,
      "outputs": []
    }
  ]
}