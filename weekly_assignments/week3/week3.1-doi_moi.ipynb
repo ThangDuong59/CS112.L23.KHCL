{
  "nbformat": 4,
  "nbformat_minor": 0,
  "metadata": {
    "colab": {
      "name": "doi_moi.ipynb",
      "provenance": [],
      "collapsed_sections": []
    },
    "kernelspec": {
      "name": "python3",
      "display_name": "Python 3"
    },
    "language_info": {
      "name": "python"
    }
  },
  "cells": [
    {
      "cell_type": "markdown",
      "metadata": {
        "id": "-OfqV_RCiKz1"
      },
      "source": [
        "# __ĐỔI MỚI__"
      ]
    },
    {
      "cell_type": "markdown",
      "metadata": {
        "id": "1LFe6zPGibzf"
      },
      "source": [
        "Thành phố quyết định chặt hạ hết ***n*** cây xanh hiện có trong thành phố để trồng chỉ một loại cây mới. Nhiệm vụ được giao cho Công ty Cây xanh thành phố. Do hạn chế về thiết bị Công ty chỉ tổ chức được 2 đội đốn hạ cây. Đội I hạ được ***a*** cây mỗi ngày, nhưng cứ mối ngày thứ k thì phải nghỉ để bảo dưỡng kỹ thuật, tức là đội I sẽ nghỉ vào các ngày ***k***, 2***k***, 3***k***, . . . Đội II hạ được ***b*** cây mỗi ngày, nhưng cứ mỗi ngày thứ m thì phải nghỉ để bảo dưỡng kỹ thuật, tức là đội II sẽ nghỉ vào các ngày ***m***, 2***m***, 3***m***, . . . Ở ngày nghỉ, số cây chặt hạ của đội sẽ là 0. Cả hai đội bắt đầu công việc vào cùng một ngày và làm việc song song với nhau.\n",
        "\n",
        "Công việc trồng cây mới sẽ bắt đầu sau khi toàn bộ cây cũ đã bị đốn hạ.\n",
        "\n",
        "Hãy xác định sau bao nhiêu ngày thì có thể bắt đầu việc trồng mới cây.\n",
        "\n",
        "***Dữ liệu:*** Vào từ thiết bị nhập chuẩn gồm một dòng chứa 5 số nguyên ***a***, ***k***, ***b***, ***m*** và ***n*** (1 ≤ ***a***, ***b*** ≤ $10^9$, 2 ≤ ***k***, ***m*** ≤ $10^{18}$, 1 ≤ ***n*** ≤ $10^{18}$).\n",
        "\n",
        "***Kết quả:*** Đưa ra thiết bị xuất chuẩn một số nguyên – số ngày tính được.\n",
        "\n",
        "***Ví dụ:***\n",
        "\n",
        "INPUT: 2 4 3 3 25\n",
        "\n",
        "OUTPUT: 7"
      ]
    },
    {
      "cell_type": "markdown",
      "metadata": {
        "id": "IgxX1fDYlS5e"
      },
      "source": [
        "## **Abstraction**"
      ]
    },
    {
      "cell_type": "markdown",
      "metadata": {
        "id": "5LtQcgc0ngGc"
      },
      "source": [
        "Cho $a, b, k, m, n$ (với $1 ≤ a, b ≤ 10^9, 2 ≤ k, m ≤ 10^{18}, 1 ≤ n ≤ 10^{18})$, tìm $date$ nhỏ nhất sao cho thỏa mãn bất phương trình: $date * (a + b ) - a * (date // k) - b * (date // m) >= n$ "
      ]
    },
    {
      "cell_type": "markdown",
      "metadata": {
        "id": "oT8YucxBlW1L"
      },
      "source": [
        "## **Pattern Recognition**"
      ]
    },
    {
      "cell_type": "markdown",
      "metadata": {
        "id": "5tM6jkjYQjBc"
      },
      "source": [
        "- Với bài toán này, ta có thể đơn giản tiếp cận bằng cách dùng vét cạn, vét qua từng trường hợp giá trị $date$ cho tới khi tìm ra được $date$ thỏa mãn bất phương trình.\n",
        "- Ngoài ra, để tối ưu hơn, ta có thể tạo ra một khoảng giá trị các $date$ có thể là đáp án bằng một giá trị cận dưới ước lượng $date$ tối thiểu thông qua việc chia số cây cần chặt $n$ cho tổng số cây mà một ngày hai đội có thể chặt được $(a+b)$ và cận trên là $10^{18}$ (đề bài cho). Sau đó, với một khoảng tăng dần như vậy, ta có thể áp dụng thuật toán tìm kiếm nhị phân trên khoảng giá trị này để tìm giá trị $date$ thỏa mãn bất phương trình và $date$ nhỏ nhất."
      ]
    },
    {
      "cell_type": "markdown",
      "metadata": {
        "id": "DDRzKrokla1X"
      },
      "source": [
        "## **Algorithm complexity**"
      ]
    },
    {
      "cell_type": "markdown",
      "metadata": {
        "id": "_UDJeDK5FOyB"
      },
      "source": [
        "Độ phức tạp của thuật toán khi sử dụng bin search trong khoảng cận trên cận dưới xác định trước là $O(log(cận trên - cận dưới))$"
      ]
    },
    {
      "cell_type": "markdown",
      "metadata": {
        "id": "Kg3n0oVrlfJF"
      },
      "source": [
        "## **Programming**"
      ]
    },
    {
      "cell_type": "code",
      "metadata": {
        "colab": {
          "base_uri": "https://localhost:8080/"
        },
        "id": "27jlPPRyocoE",
        "outputId": "bd322d6c-ac3c-4fac-a909-c7f5d7c8b923"
      },
      "source": [
        "a, k, b, m, n = [int(num) for num in input().split()]\n",
        "can_duoi = n // (a + b)\n",
        "can_tren = 10**18\n",
        "answer = 0\n",
        "\n",
        "while can_duoi <= can_tren:\n",
        "  mid = (can_duoi + can_tren)//2\n",
        "  if mid * (a+b) - a * (mid // k) - b * (mid // m) >= n:\n",
        "    answer = mid\n",
        "    can_tren = mid - 1\n",
        "  else:\n",
        "    can_duoi = mid + 1\n",
        "    \n",
        "print(int(answer * -1  // 1 * -1))"
      ],
      "execution_count": null,
      "outputs": [
        {
          "output_type": "stream",
          "text": [
            "2 4 3 3 25\n",
            "7\n"
          ],
          "name": "stdout"
        }
      ]
    }
  ]
}